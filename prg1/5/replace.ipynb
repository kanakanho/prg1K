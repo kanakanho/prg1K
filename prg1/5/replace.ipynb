{
 "cells": [
  {
   "cell_type": "code",
   "execution_count": 24,
   "metadata": {},
   "outputs": [],
   "source": [
    "import glob\n",
    "import re\n",
    "\n",
    "files = glob.glob(\"*.c\")\n",
    "for file in files:\n",
    "    with open(file, \"r\") as f:\n",
    "        content = str(f.read())\n",
    "    content = re.sub(r\"//(.*)\\n\", \"\\n\",content)\n",
    "    with open(f\"./text/{file}\", \"w\") as f:\n",
    "        f.write(content)"
   ]
  }
 ],
 "metadata": {
  "kernelspec": {
   "display_name": "Python 3",
   "language": "python",
   "name": "python3"
  },
  "language_info": {
   "codemirror_mode": {
    "name": "ipython",
    "version": 3
   },
   "file_extension": ".py",
   "mimetype": "text/x-python",
   "name": "python",
   "nbconvert_exporter": "python",
   "pygments_lexer": "ipython3",
   "version": "3.7.16"
  },
  "orig_nbformat": 4
 },
 "nbformat": 4,
 "nbformat_minor": 2
}
