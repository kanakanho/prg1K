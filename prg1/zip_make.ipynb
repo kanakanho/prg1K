{
 "cells": [
  {
   "cell_type": "code",
   "execution_count": 79,
   "metadata": {},
   "outputs": [],
   "source": [
    "import glob\n",
    "import os\n",
    "import zipfile\n",
    "import getpass\n",
    "\n",
    "issue_number = 2\n",
    "user = getpass.getuser()\n",
    "s = list(user)\n",
    "for i in range(2):\n",
    "    s.pop()\n",
    "student_number = \"\".join(s)\n",
    "path = \"./\"\n",
    "files_path = os.listdir(path)\n",
    "files_dir = [f for f in files_path if os.path.isdir(os.path.join(path, f))]\n",
    "number = os.listdir(path)\n",
    "number.sort()\n",
    "number.remove(\"zip_make.ipynb\")\n",
    "if number[-2] == student_number+\".zip\":\n",
    "    number.remove(student_number+\".zip\")\n",
    "if number[-1] == student_number+\"_issues.zip\":\n",
    "    number.remove(student_number+\"_issues.zip\")\n",
    "max_number = \"\".join(max(number))\n",
    "if int(max_number) - 10 > 0:\n",
    "    file_number = \"0\"+str(max_number)\n",
    "else:\n",
    "    file_number = str(max_number)\n",
    "\n",
    "def file_name(zip_file_name):\n",
    "    files = \"\"\n",
    "    files = glob.glob(f\"./{max_number}/*.c\")\n",
    "    if zip_file_name == \"\":\n",
    "        files.sort()\n",
    "    else:\n",
    "        files.sort(reverse=True)\n",
    "    return files\n",
    "\n",
    "files = file_name(\"\")\n",
    "i = 0\n",
    "while i <= int(issue_number):\n",
    "    files.pop()\n",
    "    i += 1\n",
    "with zipfile.ZipFile(f\"{student_number}.zip\", \"w\") as zipF:\n",
    "    for file in files:\n",
    "        zipF.write(file, compress_type=zipfile.ZIP_DEFLATED)\n",
    "\n",
    "files = file_name(\"_issues\")\n",
    "i = 0\n",
    "issue_number = len(files) - issue_number\n",
    "while i < issue_number:\n",
    "    files.pop()\n",
    "    i += 1\n",
    "with zipfile.ZipFile(f\"{student_number}_issues.zip\", \"w\") as zipF:\n",
    "    for file in files:\n",
    "        zipF.write(file, compress_type=zipfile.ZIP_DEFLATED)"
   ]
  }
 ],
 "metadata": {
  "kernelspec": {
   "display_name": "Python 3",
   "language": "python",
   "name": "python3"
  },
  "language_info": {
   "codemirror_mode": {
    "name": "ipython",
    "version": 3
   },
   "file_extension": ".py",
   "mimetype": "text/x-python",
   "name": "python",
   "nbconvert_exporter": "python",
   "pygments_lexer": "ipython3",
   "version": "3.7.16"
  },
  "orig_nbformat": 4
 },
 "nbformat": 4,
 "nbformat_minor": 2
}
